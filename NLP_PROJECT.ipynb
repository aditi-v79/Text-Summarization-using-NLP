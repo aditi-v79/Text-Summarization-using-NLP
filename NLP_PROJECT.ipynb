{
  "cells": [
    {
      "cell_type": "markdown",
      "metadata": {
        "id": "XVNiPjRgXuSq"
      },
      "source": [
        "**TEXT SUMMARIZATION**"
      ]
    },
    {
      "cell_type": "markdown",
      "metadata": {
        "id": "EEqQQTkFXmJa"
      },
      "source": [
        "LIBRARY INSTALLATION"
      ]
    },
    {
      "cell_type": "code",
      "execution_count": null,
      "metadata": {
        "colab": {
          "base_uri": "https://localhost:8080/"
        },
        "id": "_rO5e08lQw_V",
        "outputId": "6ea4abe0-61a4-444f-9b08-1b0f5720519b"
      },
      "outputs": [
        {
          "name": "stdout",
          "output_type": "stream",
          "text": [
            "Requirement already satisfied: nltk in /usr/local/lib/python3.7/dist-packages (3.2.5)\n",
            "Requirement already satisfied: six in /usr/local/lib/python3.7/dist-packages (from nltk) (1.15.0)\n"
          ]
        }
      ],
      "source": [
        "pip install nltk"
      ]
    },
    {
      "cell_type": "code",
      "execution_count": null,
      "metadata": {
        "colab": {
          "base_uri": "https://localhost:8080/"
        },
        "id": "-TAEi_jsNoA6",
        "outputId": "4acd9bca-1e74-4a19-f22c-65754b1f4fb0"
      },
      "outputs": [
        {
          "name": "stdout",
          "output_type": "stream",
          "text": [
            "[nltk_data] Downloading package punkt to /root/nltk_data...\n",
            "[nltk_data]   Package punkt is already up-to-date!\n",
            "[nltk_data] Downloading package stopwords to /root/nltk_data...\n",
            "[nltk_data]   Package stopwords is already up-to-date!\n",
            "[nltk_data] Downloading package averaged_perceptron_tagger to\n",
            "[nltk_data]     /root/nltk_data...\n",
            "[nltk_data]   Package averaged_perceptron_tagger is already up-to-\n",
            "[nltk_data]       date!\n"
          ]
        },
        {
          "data": {
            "text/plain": [
              "True"
            ]
          },
          "execution_count": 3,
          "metadata": {},
          "output_type": "execute_result"
        }
      ],
      "source": [
        "import nltk\n",
        "nltk.download('punkt')\n",
        "nltk.download('stopwords')\n",
        "nltk.download('averaged_perceptron_tagger')"
      ]
    },
    {
      "cell_type": "markdown",
      "metadata": {
        "id": "NGV7OuoWYKFr"
      },
      "source": [
        "WEB-LINK SUMMARIZER\n"
      ]
    },
    {
      "cell_type": "code",
      "execution_count": null,
      "metadata": {
        "id": "bXmlXLEbJTJG"
      },
      "outputs": [],
      "source": [
        "import bs4 as bs\n",
        "import urllib.request\n",
        "import ssl\n",
        "\n",
        "url = 'https://www.wikipedia.org/wiki/Football'\n",
        "gcont = ssl.SSLContext()\n",
        "data = urllib.request.urlopen(url, context=gcont)\n",
        "art = data.read()\n",
        "part = bs.BeautifulSoup(art, 'lxml')\n",
        "para = part.find_all('p') #Selects all <p> tags in the site\n",
        "\n",
        "text = \"\"\n",
        "for i in para:\n",
        "    text += i.text #Gets content from the <p> tagged elemnts\n",
        "\n",
        "\n"
      ]
    },
    {
      "cell_type": "code",
      "execution_count": null,
      "metadata": {
        "id": "xjhSNSzxNGUF"
      },
      "outputs": [],
      "source": [
        "import re\n",
        "\n",
        "tpp= re.sub(r'\\[[0-9]*\\]', ' ' , text) #removes all [] numbers\n",
        "tppf = re.sub(r'[^a-zA-Z]', ' ', tpp) #removes all expect alphabets\n",
        "tppf = re.sub(r'\\s+', ' ', tppf) #removes extra space\n"
      ]
    },
    {
      "cell_type": "code",
      "execution_count": null,
      "metadata": {
        "id": "daU_AMPVNIpi"
      },
      "outputs": [],
      "source": [
        "sentences = nltk.sent_tokenize(tpp)\n",
        "words = nltk.word_tokenize(tppf)"
      ]
    },
    {
      "cell_type": "code",
      "execution_count": null,
      "metadata": {
        "id": "qw4Fs9QGNKWl"
      },
      "outputs": [],
      "source": [
        "from nltk.stem.snowball import SnowballStemmer\n",
        "stop_words = nltk.corpus.stopwords.words('english')\n",
        "stemr = SnowballStemmer(\"english\", ignore_stopwords=True)\n",
        "wfreq = {}\n",
        "for word in words:\n",
        "    if word not in stop_words:\n",
        "        if stemr.stem(word) not in wfreq.keys():\n",
        "            wfreq[stemr.stem(word)] = 1\n",
        "        else:\n",
        "            wfreq[stemr.stem(word)] += 1\n"
      ]
    },
    {
      "cell_type": "code",
      "execution_count": null,
      "metadata": {
        "id": "q0EjAYOTRiKk"
      },
      "outputs": [],
      "source": [
        "maxf = max(wfreq.values())\n",
        "for word in wfreq.keys():\n",
        "        wfreq[word] += (wfreq.get(word) // maxf)\n"
      ]
    },
    {
      "cell_type": "code",
      "execution_count": null,
      "metadata": {
        "id": "ibiUXjm6NNyW"
      },
      "outputs": [],
      "source": [
        "sscore = {}\n",
        "\n",
        "for sentence in sentences:\n",
        "    winsen = nltk.word_tokenize(sentence.lower())\n",
        "    for word in winsen:\n",
        "        if word in wfreq.keys():\n",
        "            if len(sentence.split(' ')) < 30:\n",
        "                if sentence not in sscore.keys():\n",
        "                    sscore[sentence] = wfreq[word]\n",
        "                else:\n",
        "                    sscore[sentence] += wfreq[word]"
      ]
    },
    {
      "cell_type": "code",
      "execution_count": null,
      "metadata": {
        "colab": {
          "base_uri": "https://localhost:8080/"
        },
        "id": "-4Vvfv-FNPgv",
        "outputId": "7fd7e590-d735-414d-c043-b3cc52a93f14"
      },
      "outputs": [
        {
          "name": "stdout",
          "output_type": "stream",
          "text": [
            "Number of Sentences in Summary: 11\n",
            "Camp's two most important rule changes that diverged the American game from rugby were replacing the scrummage with the line of scrimmage and the establishment of the down-and-distance rules.\n",
            "The code was distinctive in the prevalence of the mark, free kick, tackling, lack of an offside rule and that players were specifically penalised for throwing the ball.\n",
            "After the final meeting on 8 December, the FA published the \"Laws of Football\", the first comprehensive set of rules for the game later known as Association Football.\n",
            "During the game, the two teams alternated between the rugby-based rules used by McGill and the Boston Game rules used by Harvard.\n",
            "The separate Lancashire and Yorkshire competitions of the NRFU merged in 1901, forming the Northern Rugby League, the first time the name rugby league was used officially in England.\n",
            "It is widely assumed that the word \"football\" (or the phrase \"foot ball\") refers to the action of the foot kicking a ball.\n",
            "The word \"pass\" in the most recent translation is derived from \"huc percute\" (strike it here) and later \"repercute pilam\" (strike the ball again) in the original Latin.\n",
            "Most of the very early references to the game speak simply of \"ball play\" or \"playing at ball\".\n",
            "Though it was underutilised for years, this proved to be one of the most important rule changes in the establishment of the modern game.\n",
            "The code was largely independent of the public school rules, the most significant difference being the lack of an offside rule.\n",
            "The Cambridge rules differed from the draft FA rules in two significant areas; namely running with (carrying) the ball and hacking (kicking opposing players in the shins).\n"
          ]
        }
      ],
      "source": [
        "import heapq\n",
        "n=int(input(\"Number of Sentences in Summary: \"))\n",
        "tsen = heapq.nlargest(n, sscore, key=sscore.get)\n",
        "summary = '\\n'.join(tsen)\n",
        "\n",
        "print(summary)"
      ]
    },
    {
      "cell_type": "markdown",
      "metadata": {
        "id": "mL27IpjS1dvV"
      },
      "source": [
        "PDF SUMMARIZER"
      ]
    },
    {
      "cell_type": "code",
      "execution_count": null,
      "metadata": {
        "colab": {
          "base_uri": "https://localhost:8080/"
        },
        "id": "3WSmEGRT1fhq",
        "outputId": "068a2544-e8cd-46ec-cb69-5b590494aee5"
      },
      "outputs": [
        {
          "name": "stdout",
          "output_type": "stream",
          "text": [
            "[nltk_data] Downloading package stopwords to /root/nltk_data...\n",
            "[nltk_data]   Package stopwords is already up-to-date!\n",
            "[nltk_data] Downloading package punkt to /root/nltk_data...\n",
            "[nltk_data]   Package punkt is already up-to-date!\n"
          ]
        },
        {
          "data": {
            "text/plain": [
              "True"
            ]
          },
          "execution_count": 51,
          "metadata": {},
          "output_type": "execute_result"
        }
      ],
      "source": [
        "import nltk\n",
        "nltk.download('stopwords')\n",
        "nltk.download('punkt')"
      ]
    },
    {
      "cell_type": "code",
      "execution_count": null,
      "metadata": {
        "colab": {
          "base_uri": "https://localhost:8080/"
        },
        "id": "rLIxQyVg614j",
        "outputId": "a22abfaf-57fb-4fba-c3b4-4bb32b85cbed"
      },
      "outputs": [
        {
          "name": "stdout",
          "output_type": "stream",
          "text": [
            "Collecting slate3k\n",
            "  Downloading slate3k-0.5.3-py2.py3-none-any.whl (7.9 kB)\n",
            "Collecting pdfminer3k\n",
            "  Downloading pdfminer3k-1.3.4-py3-none-any.whl (100 kB)\n",
            "\u001b[K     |████████████████████████████████| 100 kB 4.1 MB/s \n",
            "\u001b[?25hCollecting ply\n",
            "  Downloading ply-3.11-py2.py3-none-any.whl (49 kB)\n",
            "\u001b[K     |████████████████████████████████| 49 kB 4.9 MB/s \n",
            "\u001b[?25hInstalling collected packages: ply, pdfminer3k, slate3k\n",
            "Successfully installed pdfminer3k-1.3.4 ply-3.11 slate3k-0.5.3\n"
          ]
        }
      ],
      "source": [
        "pip install slate3k"
      ]
    },
    {
      "cell_type": "code",
      "execution_count": null,
      "metadata": {
        "colab": {
          "base_uri": "https://localhost:8080/"
        },
        "id": "FbMoftA762C_",
        "outputId": "0d16f9ed-38c4-4c88-ed0d-f0e5c863fd40"
      },
      "outputs": [
        {
          "name": "stdout",
          "output_type": "stream",
          "text": [
            "Collecting pdf2image\n",
            "  Downloading pdf2image-1.16.0-py3-none-any.whl (10 kB)\n",
            "Requirement already satisfied: pillow in /usr/local/lib/python3.7/dist-packages (from pdf2image) (7.1.2)\n",
            "Installing collected packages: pdf2image\n",
            "Successfully installed pdf2image-1.16.0\n"
          ]
        }
      ],
      "source": [
        "pip install pdf2image"
      ]
    },
    {
      "cell_type": "code",
      "execution_count": null,
      "metadata": {
        "id": "q3PXwFjV1gZX"
      },
      "outputs": [],
      "source": [
        "import os\n",
        "import nltk\n",
        "import re\n",
        "import slate3k as slate\n",
        "from pdf2image import convert_from_path\n",
        "from nltk.corpus import stopwords\n",
        "from nltk.tokenize import word_tokenize, sent_tokenize\n",
        "from nltk.stem.snowball import SnowballStemmer\n",
        "from PIL import Image"
      ]
    },
    {
      "cell_type": "code",
      "execution_count": null,
      "metadata": {
        "id": "i_QmjCzZ1jGR"
      },
      "outputs": [],
      "source": [
        "def textpdf(file):\n",
        "    p = open(pdf, \"rb\")\n",
        "    page = slate.PDF(p)\n",
        "    text = \"\"\n",
        "    for i in page:\n",
        "        text += i\n",
        "    return text"
      ]
    },
    {
      "cell_type": "code",
      "execution_count": null,
      "metadata": {
        "id": "va0gy9Dy1kbE"
      },
      "outputs": [],
      "source": [
        "def pdfSummary(text):\n",
        "    data = re.sub(\"’\", \"'\", text)\n",
        "    data = re.sub(\"[^a-zA-Z' ]+\", \" \", data)\n",
        "    sw = set(stopwords.words(\"english\"))\n",
        "    words = word_tokenize(data)\n",
        "\n",
        "    stemr = SnowballStemmer(\"english\", ignore_stopwords=True)\n",
        "    freq = dict()\n",
        "    for w in words:\n",
        "        w = w.lower()\n",
        "        if w in sw:\n",
        "            continue\n",
        "        elif stemr.stem(w) in freq:\n",
        "            freq[stemr.stem(w)] += 1\n",
        "        else:\n",
        "            freq[stemr.stem(w)] = 1\n",
        "\n",
        "    sents = sent_tokenize(text)\n",
        "    ss = []\n",
        "    sentVal = dict()\n",
        "    for s in sents:\n",
        "        stems = []\n",
        "        for w in s.lower().split():\n",
        "            stems.append(stemr.stem(w))\n",
        "        ss.append(stems)\n",
        "\n",
        "    for num in range(len(ss)):\n",
        "        for val in freq:\n",
        "            if val in ss[num]:\n",
        "                if sents[num][:] in sentVal:\n",
        "                    sentVal[sents[num][:]] += freq.get(val)\n",
        "                else:\n",
        "                    sentVal[sents[num][:]] = freq.get(val)\n",
        "\n",
        "    sums = 0\n",
        "    for s in sentVal:\n",
        "        sums += sentVal.get(s)\n",
        "\n",
        "    avg = int(sums / len(sentVal))\n",
        "\n",
        "    sumr = \"\"\n",
        "    for s in sents:\n",
        "            if s[:] in sentVal and sentVal[s[:]] > (2*avg):\n",
        "                sumr += \" \" + \" \".join(s.split())\n",
        "\n",
        "    sumr = re.sub(\"’\", \"'\", sumr)\n",
        "    sumr = re.sub(\"[^a-zA-Z0-9'\\\"():;,.!?— ]+\", \" \", sumr)\n",
        "    txt = open(fn + \" - Summarized.txt\", \"w\")\n",
        "    txt.write(sumr)\n",
        "    txt.close()\n",
        "    print(sumr)"
      ]
    },
    {
      "cell_type": "code",
      "execution_count": null,
      "metadata": {
        "colab": {
          "base_uri": "https://localhost:8080/"
        },
        "id": "B4CtmUsZ1lsA",
        "outputId": "10c090b3-c456-4d76-c617-5fb64a7b75ea"
      },
      "outputs": [
        {
          "name": "stdout",
          "output_type": "stream",
          "text": [
            "Filename: txt\n",
            " In Study 4 (the firstof the present series), the complete program demonstrated largely statisticallysignificant happiness increases over a control group receiving summary in struction in the program. Yet,the nature of happiness has always beenviewed as elusive—its attainment even moremysterious—and most assume there is littlein the way of scientific knowledge on thetopic.Psychological research, however, has cometo dispute these assumptions, for studiesover the last 20 years have developed astrong accumulation of knowledge about thenature of personal happiness and its appar ent causes, as well as the attributes, per sonality characteristics, and objective sit uations of those individuals who haveachieved high levels of happiness.The volume of studies in the field is quiteI wish to express appreciation to the numerous re search and clerical assistants whose work over the last5 years made the present article possible.Requests for reprints, the fundamentals program, andother research materials should be sent to Michael W.Fordyce, Edison Community College, Fort Myers,Florida 33907.sizable (Diener   Griffin, Note 1, cited over650 relevant articles in their recent bench mark bibliography of happiness studies), andthe scope of many of the more importantefforts is quite impressive (some involvingdata from thousands of individuals andhundreds of variables in representative na tional and international samples; e.g., An drews   Withey, 1976; Bradburn, 1969;Bradburn   Caplovitz, 1965; Campbell,Converse,   Rodgers, 1976; Cantril, 1965;Gurin, Veroff,   Feld, 1960; Wessman  Ricks, 1966). Certainly,short term moods of happiness occur andhave often been the object of research study.But the bulk of studies have focused onhappiness as the average individual intui 483 484MICHAEL W. FORDYCEtively understands it: a longer term, overallfelt sense of emotional well being and con tentment with life—a global index of life satisfaction.This overall \"sense of happiness\"—asbasic an experience as it is—is actually theresult of numerous, complexly interactingfactors in a person's life. ), each having its ownsubtle situational connotation, happiness isthe word most commonly understood for thisbasic emotional condition, and therefore itis the term most often used by the re searchers who have studied it.As a result of continuing research, thecurrent research understanding of personalhappiness is substantive, reliable, and re markably consistent. However, until recentlythere has been one very important area ofhappiness research that has gone unstu died—attempts to increase personal happi ness itself.Using the known characteristics of happyindividuals as a base, Fordyce (1977) re ported a series of three studies in which aprogram of happiness increasing techniqueswas developed and used to successfully en hance the personal happiness of normalcommunity college students. In theoriginal studies these programs were usedwith varying degrees of success, and even tually the most successful elements of theoriginal programs were combined in thepresent 14 fundamentals—that is, 14 char acteristics highly typical of happy individ uals that average individuals appear able toemulate.Briefly described, the 14 fundamentals areas follows: (a) keep busy and be more active;(b) spend more time socializing; (c) be pro ductive at meaningful work; (d) get betterorganized and plan things out; (e) stopworrying; (f) lower your expectations andaspirations; (g) develop positive, optimisticthinking; (h) become present oriented; (i)work on a healthy personality; (j) develop anoutgoing, social personality; (k) be yourself;(1) eliminate negative feelings and problems;(m) close relationships are the number onesource of happiness; (n) put happiness asyour most important priority. INCREASING HAPPINESS485Following publication of the originalstudies, Lichter, Haye, and Kammann(1980) used a basic outline of the program(coupled with ideas from Dyer, 1977) toproduce happiness, increases in their studies;and the informal use of the material by oth ers also indicated a positive potential.Though preliminary, the data from thesevarious sources indicated the strong possi bility that the personal happiness of averageindividuals can be elevated through appro priate training. Part 2 consists of a de tailed elaboration of each of the 14 funda mentals individually (the research rationalebehind each, insight into why they work forhappy people, and specific behavioral andcognitive techniques to help achieve them).In previous experiments with the funda mentals, experimental groups receiving fulltraining were compared to \"placebo con trols\" that were frequently given suggestionsof greater happiness but no informationabout happiness or the fundamentals.In the present study, the control group waseven more stringent: Instead of no \"hap piness information,\" the control group re ceived Part 1 training in the fundamentals(along with suggestions of greater happi ness). It washypothesized that the experimental groupwould increase their happiness significantlymore than the stringent control.MethodSubjectsThree intact classes of adult community college stu dents enrolled in an adjustment psychology course weregiven information and instruction in the 14 funda mentals as a part of normal class lectures. Two classes re ceived complete instruction (the experimental group,n   64), and one class received Part 1 information only(the control group, n   34).Design and ProcedureThe participants in both groups were presented withlecture materials sensitizing them to the nature, defi nition, and importance of personal happiness—as wellas a basic review of the objective characteristics ofhappy individuals according to the research. This take it or leave it strategy, experimen tally speaking, provided several advantages: It madethe experimental manipulation as unobtrusive as pos sible; it provided the opportunity to determine, indi rectly, the natural appeal of the information (as indi cated by the percentage of individuals who might chooseto consider and apply the information when no otherincentive than potential happiness improvement wasoffered); and it gave the chance to find out how peoplewould use such information when it is presented in asuggested, rather than required manner (a manner moretypical of most counseling settings, where prescriptionsare generally more recommendatory than manda tory).To control for initial group differences in happinesslevels, an analysis of covariance statistical treatment ofpre  and posttest measures (with a Solomon design tocontrol for pretest sensitization effects) was selected.Eleven weeks elapsed between pre  and posttesting,between which the fundamentals informations waspresented in full or in part to the two treatment groups.None of the participants refused to participate in test ing; all received complete pre  and posttesting.Although the essential independent variable in thisstudy was simply exposure to the fundamentals infor mation, per se, and no hypothesis was made concerningthe degree to which the information was accepted orpracticed, it is of interest to report exactly what par ticipants in the experimental group did during thestudy. The forms arehighly correlated (average interform r   .93), Items arebased on past findings, and each item demonstratessignificant correlations with other happiness measures.Five scores are produced: the achieved happiness score(the level of felt happiness and emotional satisfactionwith life); the attitudes and values score (a measure of INCREASING HAPPINESS487one's adherence to the attitude patterns of happy peo ple); the happy personality (a measure of how closelyone's own personality characteristics coincide with thoseof the happiest individuals); the happy life style score(how closely one's daily living pattern matches thelife style of happy individuals); and the total score (anoverall evaluation, based upon all 80 test items). Thesefive subscales were derived conceptually, items beingclustered according to similar themes for scoring pur poses.In 7 years of extensive testing with over 3,000 normaladults the SDI has demonstrated (a) significant validitycoefficients with measures of happiness and emotionalmorale (e.g., the HM, all forms of the DACL, the Mul tiple Affect Adjective Checklist, and the Profile of MoodStates); (b) significant correlations with numerousmeasures of personality traits (associated with happi ness) on the Personal Orientation Inventory, ComreyPersonality Scales, Cattell Sixteen Personality FactorQuestionnaire, Eysenck Personality Questionnaire,.Tennessee Self Concept Scale, and Pair Attraction In ventory; and (c) strong interform and test retest cor relations (ranging from .89 to .97 in 12 studies, averagen   100). The SDI is not only designed to be a gen eral purpose inventory of happiness but is also designedas a diagnostic and prescriptive supplement to the 14fundamentals (since items and scoring relate directlyto an evaluation of strengths and weaknesses on the 14principles incorporated in the program).The three tests provided some 10 different indexesof happiness change over the experimental period: 4from the HM, 1 from the DACL, and 5 from the SDI(only forms A and B were given). Collectively, theyprovided a greater number of criterion measures thanhad been used in previous studies, and the assumptionwas that this increased variety of criteria would providegreater collusiveness and reliability to subsequentresults (and thus overcome an inherent weakness of theprevious three studies, where only one device wasused).In addition to these more objective measures, ananonymous questionnaire was given to individuals inthe experimental group at the conclusion of the studyto gain their subjective evaluations of the procedure.AnalysisThe resultant 10 measures of happiness change weretreated through analysis of covariance (ANCOVA) todetermine the experimental outcomes. Here, itappears, the indication went one step fur ther: It seems that exposure to specifictechniques and principles embodied in thefundamentals produced greater and moresignificant results than did exposure to ageneral, informational background in thenature of personal happiness and a mereoutlining of the 14 fundamentals alone.Subjective impressions, provided anony mously by participants in postexperimentquestionnaires and debriefing sessions,supported the statistical outcome.3As reported in an earlier section, a sur prisingly high 93  of the subjects voluntarily(with no extrinsic reward apparent to them)chose to use and act upon the fundamentalsmaterials. Seemingly, the vast majority ofindividuals exposed to a happiness educationopt to take advantage of it.Those that did reported a variety of ef fects: 81  of all participants claimed actualincreases in their happiness as a result oftheir learnings; 86  reported a variety ofcognitive and or behavioral changes as re sultant effects; 89  indicated the funda mentals had helped to more quickly end,cope with, or stave off unhappy moods; 70 found the program helped create, maintain,and enhance happy moods; and practicallyall, 97 , felt the information had been ofsome positive educational value.Information regarding actual happinessincreases showed the following: 6  claimed\"extreme\" happiness increases due to thefundamentals; 30  reported \"much greater\"happiness; 39  felt their happiness had im proved \"somewhat\"; 6  noticed \"slight\"increments; 17  reported no effect; and 2 claimed happiness decreases as a result.Thus 81  actually felt some degree of hap piness benefits from their instruction.However, the lack of gains in the remaining19  were not necessarily due to the programitself. \"Study 5Based on the positive results of Study 4,in which the group receiving full instructionin the fundamentals appeared to increasehappiness better than the group that re ceived only introductory information aboutthe program, Study 5 went one step further.Here, a full instruction group was comparedto a group receiving introductory informa tion plus specific instruction in several of thefundamentals themselves. This latter groupserved as the most stringent control used inany previous study (for, in effect, they re ceived nearly half of all the informationgiven to the experimental, full instructiongroup).In addition to stricter control, Study 5 alsoexpanded the scope of measurement to in clude more than just happiness indexes.Added to the testing procedures were theMultiple Affect Adjective Checklist(MAACL) and the Personal OrientationInventory (POI). The design employed in past studies wasreplicated: intact classes to assure unobtrusiveness oftesting and experimental manipulations and pre  andposttesting on all instruments, used in an ANCOVA tocontrol for initial class differences and to determinestatistical outcomes.MeasurementIn the present study, happiness was measured withthe HM and the SDI—both previously described. What in dividuals did with the information presentedto them showed that a surprisingly highnumber chose, on their own, to work with it(96  of the subjects decided to use it: 16 used it rigorously, as intended; 27  practicedit regularly; 33  reflected upon it often; 20 thought about it from time to time; 4  gave 490MICHAEL W. FORDYCETable 2Posttest Mean Comparisons and F RatiosBetween the Experimental and ControlGroups0Experi Controlb mental0MeasureM SD M SDPersonal Orientation Inventory16.9 3.3 17.5 3.7 .87Time competenceInner directedness86.1 14.0 91.6 12.4 6.70 Multiple Affect Adjective ChecklistAnxiety11Depression\"1Hostility 18.36 4.3 5.5 3.9 8.44 14.3 8.1 10.2 6.4 5.40 9.0 4.7 8.0 4.5 .73Happiness measuresCombinationscoreScaleHappy  Unhappy  d67.27.460.720.317.81.621.913.471.2 19.2 1.017.7 1.8 .7864.9 22.7 .7914.4 12.3 3.62Self Description InventorySet A   BeAchieved Happiness 10.6Personality 18.4Attitudes and Values 13.8Life Style 12.6Total score 55.4Set C   DeAchievedHappiness 8.1Personality 15.5Attitudes and Values 11.5Life Style 12.1Total score 47.43.7 11.9 3.4 3.874.2 19.0 4.3 .043.7 15.0 3.2 2.654.9 14.4 4.3 4.74 14.9 60.2 13.3 3.634.8 9.9 4.4 3.99 4.7 17.1 4.4 3.093.5 12.9 3.5 3.854.4 12.8 4.4 .0616.0 52.7 14.8 4.01 a Means are adjusted from the analysis of covariance (df  1,69).  p .01.little thought to it, choosing instead to dis miss the information).In terms of happiness increments, 82  ofthe subjects reported the program hadhelped increase their happiness to some de gree (4  felt the information had made themextremely happy; 26  felt it had made themmuch happier; 42  thought it made themsomewhat happier; 10  indicated it hadmade them a little happier). No oneclaimed (though the option was provided onthe questionnaire) that they had workedregularly with the program and it had failedthem; and only one individual indicated acounterproductive effect (i.e., learning about\"happiness\" had made them more aware ofhow unhappy they really were).As in previous studies, participants iden tified two major avenues in which the fun damentals created their positive   effects.About half suggested the overall effects ofthe program were educational (it provideda greater understanding and better insightinto the nature and causes of happiness intheir own lives), whereas the other half re ported the fundamentals had prompted avariety of behavior and attitude changes thatled to greater happiness.As to the specific elements of the program,each of the 14 fundamentals was mentionedby at least one subject as the \"most helpfulof all.\" Also,the study provided an opportunity to use thediagnostic and prescriptive elements of theSDI (which was designed as an adjunct to thefundamentals).MethodSubjectsThree intact psychology classes of adult communitycollege students (n   57 after normal attrition  cf.footnote 2 ; 21 males, 36 females; mean age   25.2; agerange   18 64) were used for the three basic conditionsof the experiment (full instruction condition, n   14;one third instruction condition, n   30; control condi tion, ft   13).Design and ProcedureOn the basis of pretest scores on the SDI, the one third instruction group was subdivided into three finaltreatment groups, each receiving instruction in justone third of the fundamentals in small work groups. A survey of thetime series data showed the happiness levelsof all experimental groups uniformly rose onall measures during the experimental period.The four criterion scores used (i.e., the HMscale, happy and unhappy percent scores,along with the DACL score) have beencombined into one overall composite indexand plotted in Figure 1, (This has beendone for the sake of brevity and because theindividual plots of these scores were so sim ilar.) Only oneindividual felt the information had createda deeper sense of unhappiness.Generally, the effectiveness of the pro gram came through educational insight (96 of the respondents indicated this had oc  INCREASING HAPPINESS493curred) and actual changes in attitude andlife style (72  reporting such modifications).The fundamentals helped 67  cope betterTable 3Adjusted Mean Changes on all Measures Overthe 6 Week Experiment\"Happiness indexesGroupHappiness measures    un Scale happy happy DACL CIbFull treatmentPersonality VsAttitude andvalues VsLife style VsControlInitial testing6.77 54.36.77 54.36.77 54.36.77 54.36.77 54.323.023.023.023.023.08.5 68.48.5 68,48.5 68.48.5 68.48.5 68.4Second testingFull treatmentPersonality VsAttitude andvalues VsLife style V3ControlFull treatmentPersonality VsAttitude andvalues VsLife style VsControl6.53 52.6 18.06.59 53.5 21.46.69 53.0 22.96.88 65.3 12.36.49 57.2 16.5Third testing7,51  63.0  20.67.64  66.8  13.77.55  65.6  14.67.86  73.8  14.55.69 43.9 24.68.99.37.76.99.37.28.57.26.89.968.367.668.575.369.474.076.076.279.461.7Final testingFull treatmentPersonality VsAttitudes andvalues VaLife style VsControl7.55 7.39 7.94 8.01 5.3964.9 67.5 68.6 74.0 36.914.0 16.2 14.1 9.5 31.56.6 \"6.8 6.8 5.2 10.276.776.278.482.357.2Note. Perhaps ifthe \"third\" had been selected at random (ashad been done in Study 5), rather than as signed by the weak point strategy used here,the hypothesis would have been appro priate.On the positive side, however, the dataclearly indicate that all major subdivisionsof the program have validity (i.e., no super fluous materials are incorporated in thecomplete program) and that diagnosis ofspecific \"happiness weakness,\" as done withthe SDI, can make the program more selec tively useful and efficient.Study 7In the 6 previous studies, experimentswith the fundamentals had demonstratedhappiness changes, but in all cases this ef fectiveness had only been created in shorttime frames (from 2 weeks to 4 months) andin situations where participants were captiveand continuously reminded of the material.Though these attempts to increase happi ness had appeared consistently successful,a question remained: How long lasting weresuch positive effects, especially if no moni  494MICHAEL W. FORDYCEtoring occurred? Of the remaining 24 , half hadworked with the fundamentals at first, butas time had passed, they had forgotten them;the other half had dismissed the informationto begin with.As to happiness changes, 23  of the re spondents felt the information had madethem somewhat happier in the long term;25  felt they had become a good deal hap pier; and 24  claimed the fundamentals hadhelped them extremely, making them farmore happy than they might have been.The remaining 28  fell into four categories:11  said the material had helped their hap piness at first, but they had subsequentlyforgotten it; 8  felt they had always been toohappy to achieve any greater increase; 8 claimed no long term effects because theyhad dismissed or ignored the information tobegin with; and only one individual claimedto have worked with the program but to havegained no happiness. The program appears to be effec tive as a tool for short term happiness en hancement, and there is evidence that itseffectiveness may well be long lasting and itsimpact more global (in terms of other mentalgains).In the seven studies conducted with thefundamentals, a variety of strategies havebeen employed. The program has beencompared to placebo programs (.where sug gestions and expectations of happiness werecreated); it has been compared to itself (indesigns where half the information wastested against the whole); those working di ligently with the program have been com pared to those who ignored it; data on theprogram have been gathered from individ uals using it from as little as 2 weeks to asmuch as a year or more; a wide variety ofcriterion measures have been used; and ad herence to the program has been required insome studies and optional in most others.In each case, the statistical data seem to in dicate that the fundamentals indeed helpindividuals become happier and that thisincrease in happiness is due largely to theinformation and techniques involved in theprogram, and is not just a product ofheightened sensitization to happiness orexpectations and suggestions of greaterhappiness.In addition to the objective data, there issubjective testimony of the participantsthemselves, provided by their anonymousreports. Specificeffects ranged from the development of newbehaviors and attitudes, changes in life style,new insights and understandings, bettercopings with bad moods, enhancement ofhappy moods, to a better awareness of hap piness itself—and virtually all (96 ) suggestthe program is worthwhile educationally.From this consistently positive feedback,and from the positive statistical trends ob served in the objective data, it would appearthat the fundamentals program does in crease happiness.However, caution is in order, for even inthese further studies a number of short comings exist that possibly attenuate thispositive conclusion.Adequate measurement, for one, has al ways been a concern in happiness research.In the present studies, self reporting in struments were used to measure happiness.This is typical in happiness studies, sinceother measurement modalities (e.g., peerreports, behavioral observations, physio logical indexes, etc.) Campbell,1976) to rectify this problem, and soon,perhaps, research in the area can profit frominstruments of sounder psychometrics andstandard usage.Given the state of the art, the presentstudies incorporated the best availablestrategy, using two of the most thoroughlytested measures of happiness currently de veloped (the HM and the SDI) and bol stering them with a variety of other, betterrecognized tests of clinical depression andmental health. Some obviousstudies come to mind: (a) comparisons be  INCREASING HAPPINESS497tween the 14 fundamentals and other self help programs of study; (b) replications ofthe present studies using the standardized14 Fundamentals Package now available; (c)replications of the present studies usingdifferent presenters; (d) studies with dif ferent normal and clinical populations; (e)research wherein the program is used as anadjunct to—or possibly in lieu of—othercounseling procedures; (f) studies that fur ther scrutinize the contents of the programthat might enhance effective portions andeliminate noneffective portions; and (g)studies that might use the fundamentals asa basis of comparison to develop newly con ceived programs aimed at happiness andmental health increment.The placing of these seven studies in thecontext of other research is somewhatproblematical. Instead of focusing on the myriad ofproblems and satisfactions one encountersin day to day living that aid or hindereventual happiness, the fundamentals pro gram addresses the topic of happiness itself.It appears that this focus works, for it helpsindividuals place the means of their every day living in perspective with one of its mostimportant ends: happiness.In the original studies (Fordyce, 1977), itwas concluded that such \"perspective\" wasone of the most pronounced effects of thefundamentals program.\n"
          ]
        }
      ],
      "source": [
        "fn=input(\"Filename: \")\n",
        "pdf = fn+\".pdf\"\n",
        "text = textpdf(pdf)\n",
        "pdfSummary(text)"
      ]
    }
  ],
  "metadata": {
    "colab": {
      "provenance": []
    },
    "kernelspec": {
      "display_name": "Python 3",
      "name": "python3"
    },
    "language_info": {
      "name": "python"
    }
  },
  "nbformat": 4,
  "nbformat_minor": 0
}
